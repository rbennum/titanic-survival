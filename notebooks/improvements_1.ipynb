{
 "cells": [
  {
   "cell_type": "code",
   "execution_count": 2,
   "id": "335f214f",
   "metadata": {},
   "outputs": [],
   "source": [
    "%load_ext autoreload\n",
    "%autoreload 2"
   ]
  },
  {
   "cell_type": "markdown",
   "id": "4d678eff",
   "metadata": {},
   "source": [
    "# Predicting Survival on Titanic: Improvement\n",
    "\n",
    "This notebook presents a continuation on the last notebook as we are trying to achieve\n",
    "85% accuracy from our 77% base accuracy. We are also trying to implement a better \n",
    "workflow using `sklearn`'s `Pipeline`, splitting the train dataset, applying cross-validation, \n",
    "spending our time inspecting features to learn more on why, before challenging back\n",
    "the test dataset from Kaggle.\n",
    "\n",
    "It would be a fun journey ahead. Stay tuned."
   ]
  },
  {
   "cell_type": "markdown",
   "id": "20d37517",
   "metadata": {},
   "source": [
    "## Importing Libraries"
   ]
  },
  {
   "cell_type": "code",
   "execution_count": 14,
   "id": "c3f58e72",
   "metadata": {},
   "outputs": [],
   "source": [
    "import pandas as pd\n",
    "import seaborn as sns\n",
    "import numpy as np\n",
    "\n",
    "from sklearn.pipeline import Pipeline\n",
    "from sklearn.model_selection import train_test_split\n",
    "from sklearn.preprocessing import OneHotEncoder, StandardScaler\n",
    "\n",
    "from src.utils import skim_data\n",
    "from src.transformers import FamilySizeBinner"
   ]
  },
  {
   "cell_type": "markdown",
   "id": "227dc30f",
   "metadata": {},
   "source": [
    "## Reading Datasets"
   ]
  },
  {
   "cell_type": "code",
   "execution_count": 4,
   "id": "a578f39f",
   "metadata": {},
   "outputs": [],
   "source": [
    "df_train = pd.read_csv('input/train.csv')\n",
    "df_test = pd.read_csv('input/test.csv')"
   ]
  },
  {
   "cell_type": "markdown",
   "id": "b2fafe2a",
   "metadata": {},
   "source": [
    "Then from `df_train` I can simply created the famous `X` and `y` variables:"
   ]
  },
  {
   "cell_type": "code",
   "execution_count": 5,
   "id": "79b7a6cc",
   "metadata": {},
   "outputs": [],
   "source": [
    "X = df_train.drop('Survived', axis=1)\n",
    "y = df_train['Survived']"
   ]
  },
  {
   "cell_type": "markdown",
   "id": "723fadfb",
   "metadata": {},
   "source": [
    "## The Workflow\n",
    "\n",
    "There are several steps that I want to try in this improvement:\n",
    "\n",
    "- Train-Test Split\n",
    "\n",
    "Since testing on Kaggle has a limit, it would be best for me to test my model on\n",
    "a data split from the existing training dataset. I decide to spent 20% of the training\n",
    "dataset for my local testing process.\n",
    "\n",
    "- Hyperparameter tuning & cross-validation\n",
    "\n",
    "Hyperparameter is the external configuration settings\n",
    "\n",
    "- Refit on all `X` training data\n",
    "- Evaluation on `y`\n",
    "- Refit on all `df_train` data\n",
    "- Evaluation on Kaggle's `df_test` data\n"
   ]
  },
  {
   "cell_type": "markdown",
   "id": "40a696db",
   "metadata": {},
   "source": [
    "### Split Train Dataset"
   ]
  },
  {
   "cell_type": "code",
   "execution_count": 6,
   "id": "79aa8a28",
   "metadata": {},
   "outputs": [],
   "source": [
    "X_train, X_test, y_train, y_test = train_test_split(X, y, test_size=0.2, random_state=23, stratify=y)"
   ]
  },
  {
   "cell_type": "markdown",
   "id": "22b9b410",
   "metadata": {},
   "source": [
    "Let's see if our datasets have splitted fairly."
   ]
  },
  {
   "cell_type": "code",
   "execution_count": 7,
   "id": "5974ea24",
   "metadata": {},
   "outputs": [
    {
     "data": {
      "text/plain": [
       "Survived\n",
       "0    0.616573\n",
       "1    0.383427\n",
       "Name: count, dtype: float64"
      ]
     },
     "execution_count": 7,
     "metadata": {},
     "output_type": "execute_result"
    }
   ],
   "source": [
    "(\n",
    "    y_train.value_counts() / len(y_train)\n",
    ")"
   ]
  },
  {
   "cell_type": "code",
   "execution_count": 8,
   "id": "e8c28a64",
   "metadata": {},
   "outputs": [
    {
     "data": {
      "text/plain": [
       "Survived\n",
       "0    0.614525\n",
       "1    0.385475\n",
       "Name: count, dtype: float64"
      ]
     },
     "execution_count": 8,
     "metadata": {},
     "output_type": "execute_result"
    }
   ],
   "source": [
    "(\n",
    "    y_test.value_counts() / len(y_test)\n",
    ")"
   ]
  },
  {
   "cell_type": "markdown",
   "id": "efdc21e2",
   "metadata": {},
   "source": [
    "Both `y_train` and `y_test` have been splitted fairly, with class `0` stands at\n",
    "61% and class `1` stands at 38%."
   ]
  },
  {
   "cell_type": "markdown",
   "id": "e0b38202",
   "metadata": {},
   "source": [
    "### Hypertuning Parameters & Cross-Validation\n",
    "\n",
    "Thanks to `sklearn`'s `GridSearchVC`, we can run the hypertuning parameters and\n",
    "cross-validation in one go. There are two things that we need to decide before\n",
    "running them all:\n",
    "\n",
    "- Data Preprocessing and Feature Engineering\n",
    "- Define Parameter Grid"
   ]
  },
  {
   "cell_type": "markdown",
   "id": "d63a6392",
   "metadata": {},
   "source": [
    "#### Data Preprocessing & Feature Engineering\n",
    "\n",
    "In our previous exploration, we already defined how we done both the data processing\n",
    "and feature engineering:\n",
    "\n",
    "- Extracts `Title` from `Name`, whilst replacing the rare ones.\n",
    "- Creates a `HasCabin` feature\n",
    "- Imputes missing `Age` values based on the `Title`.\n",
    "- Imputes missing `Embarked` values based on the mode, which is `S` for Southampton.\n",
    "- Encode the `Sex`, `Embarked`, and `Title`, which are the categorical features,\n",
    "by using `OneHotEncoding`.\n",
    "- Encode the `Pclass`, `Age`, `SibSp`, `Parch`, and `Fare`, which are the numerical\n",
    "features, by using `StandardScaler`.\n",
    "- Drop any features that aren't mentioned.\n",
    "\n",
    "But after exploring the discussion related to the challenge, I would like to test\n",
    "for a new feature, whether it's significant or not. It's called `family_size`, which\n",
    "combines the values of `SibSp` and `Parch` and adds one for the individual themselves.\n",
    "Let's try it out first before putting the previous processes into the pipeline."
   ]
  },
  {
   "cell_type": "markdown",
   "id": "0606922a",
   "metadata": {},
   "source": [
    "##### `FamilySize` Matters\n",
    "\n",
    "We'll start comparing it against the average of survived people."
   ]
  },
  {
   "cell_type": "code",
   "execution_count": 9,
   "id": "e57e64b5",
   "metadata": {},
   "outputs": [
    {
     "data": {
      "text/plain": [
       "<Axes: xlabel='FamilySize', ylabel='Survived'>"
      ]
     },
     "execution_count": 9,
     "metadata": {},
     "output_type": "execute_result"
    },
    {
     "data": {
      "image/png": "[encoded data removed]",
      "text/plain": [
       "<Figure size 640x480 with 1 Axes>"
      ]
     },
     "metadata": {},
     "output_type": "display_data"
    }
   ],
   "source": [
    "df_test = df_train.copy()\n",
    "\n",
    "df_test = (\n",
    "    df_test\n",
    "    .assign(\n",
    "        FamilySize=lambda x: x['SibSp'] + x['Parch'] + 1\n",
    "    )\n",
    "    .groupby('FamilySize', as_index=False)\n",
    "    .agg({'Survived': 'mean'})\n",
    ")\n",
    "\n",
    "sns.barplot(data=df_test, x='FamilySize', y='Survived')"
   ]
  },
  {
   "cell_type": "markdown",
   "id": "e8236a91",
   "metadata": {},
   "source": [
    "We can see that there is an apparent distinction comes from family size 1, \n",
    "family size 2-4, and family size > 5. Based on this distinction, I would create \n",
    "a binned property that divides this into three parts: small (family size 1), \n",
    "medium (family size 2-4), and large (family size > 5). This is also because\n",
    "binned properties are better used when utilizing linear-typed models. Since\n",
    "I'm using LinearSVC, in theory it would fit perfectly."
   ]
  },
  {
   "cell_type": "code",
   "execution_count": 10,
   "id": "363bd010",
   "metadata": {},
   "outputs": [
    {
     "data": {
      "text/html": [
       "<div>\n",
       "<style scoped>\n",
       "    .dataframe tbody tr th:only-of-type {\n",
       "        vertical-align: middle;\n",
       "    }\n",
       "\n",
       "    .dataframe tbody tr th {\n",
       "        vertical-align: top;\n",
       "    }\n",
       "\n",
       "    .dataframe thead th {\n",
       "        text-align: right;\n",
       "    }\n",
       "</style>\n",
       "<table border=\"1\" class=\"dataframe\">\n",
       "  <thead>\n",
       "    <tr style=\"text-align: right;\">\n",
       "      <th></th>\n",
       "      <th>FamilySize</th>\n",
       "      <th>Survived</th>\n",
       "      <th>FamilyBin</th>\n",
       "    </tr>\n",
       "  </thead>\n",
       "  <tbody>\n",
       "    <tr>\n",
       "      <th>0</th>\n",
       "      <td>1</td>\n",
       "      <td>0.303538</td>\n",
       "      <td>small</td>\n",
       "    </tr>\n",
       "    <tr>\n",
       "      <th>1</th>\n",
       "      <td>2</td>\n",
       "      <td>0.552795</td>\n",
       "      <td>medium</td>\n",
       "    </tr>\n",
       "    <tr>\n",
       "      <th>2</th>\n",
       "      <td>3</td>\n",
       "      <td>0.578431</td>\n",
       "      <td>medium</td>\n",
       "    </tr>\n",
       "    <tr>\n",
       "      <th>3</th>\n",
       "      <td>4</td>\n",
       "      <td>0.724138</td>\n",
       "      <td>medium</td>\n",
       "    </tr>\n",
       "    <tr>\n",
       "      <th>4</th>\n",
       "      <td>5</td>\n",
       "      <td>0.200000</td>\n",
       "      <td>large</td>\n",
       "    </tr>\n",
       "    <tr>\n",
       "      <th>5</th>\n",
       "      <td>6</td>\n",
       "      <td>0.136364</td>\n",
       "      <td>large</td>\n",
       "    </tr>\n",
       "    <tr>\n",
       "      <th>6</th>\n",
       "      <td>7</td>\n",
       "      <td>0.333333</td>\n",
       "      <td>large</td>\n",
       "    </tr>\n",
       "    <tr>\n",
       "      <th>7</th>\n",
       "      <td>8</td>\n",
       "      <td>0.000000</td>\n",
       "      <td>large</td>\n",
       "    </tr>\n",
       "    <tr>\n",
       "      <th>8</th>\n",
       "      <td>11</td>\n",
       "      <td>0.000000</td>\n",
       "      <td>large</td>\n",
       "    </tr>\n",
       "  </tbody>\n",
       "</table>\n",
       "</div>"
      ],
      "text/plain": [
       "   FamilySize  Survived FamilyBin\n",
       "0           1  0.303538     small\n",
       "1           2  0.552795    medium\n",
       "2           3  0.578431    medium\n",
       "3           4  0.724138    medium\n",
       "4           5  0.200000     large\n",
       "5           6  0.136364     large\n",
       "6           7  0.333333     large\n",
       "7           8  0.000000     large\n",
       "8          11  0.000000     large"
      ]
     },
     "execution_count": 10,
     "metadata": {},
     "output_type": "execute_result"
    }
   ],
   "source": [
    "bins = [0, 1, 4, np.inf]\n",
    "labels = ['small', 'medium', 'large']\n",
    "\n",
    "df_test['FamilyBin'] = pd.cut(df_test['FamilySize'], bins=bins, labels=labels)\n",
    "\n",
    "df_test"
   ]
  },
  {
   "cell_type": "code",
   "execution_count": 13,
   "id": "8af151ea",
   "metadata": {},
   "outputs": [
    {
     "data": {
      "text/plain": [
       "<Axes: xlabel='FamilyBin', ylabel='Survived'>"
      ]
     },
     "execution_count": 13,
     "metadata": {},
     "output_type": "execute_result"
    },
    {
     "data": {
      "image/png": "[encoded data removed]",
      "text/plain": [
       "<Figure size 640x480 with 1 Axes>"
      ]
     },
     "metadata": {},
     "output_type": "display_data"
    }
   ],
   "source": [
    "sns.barplot(data=df_test, x='FamilyBin', y='Survived')"
   ]
  },
  {
   "cell_type": "markdown",
   "id": "5a23ae74",
   "metadata": {},
   "source": [
    "I have created a separate function called `FamilySizeBinner`. Let's try it:"
   ]
  },
  {
   "cell_type": "code",
   "execution_count": 20,
   "id": "34a10291",
   "metadata": {},
   "outputs": [
    {
     "data": {
      "text/html": [
       "<div>\n",
       "<style scoped>\n",
       "    .dataframe tbody tr th:only-of-type {\n",
       "        vertical-align: middle;\n",
       "    }\n",
       "\n",
       "    .dataframe tbody tr th {\n",
       "        vertical-align: top;\n",
       "    }\n",
       "\n",
       "    .dataframe thead th {\n",
       "        text-align: right;\n",
       "    }\n",
       "</style>\n",
       "<table border=\"1\" class=\"dataframe\">\n",
       "  <thead>\n",
       "    <tr style=\"text-align: right;\">\n",
       "      <th></th>\n",
       "      <th>PassengerId</th>\n",
       "      <th>Survived</th>\n",
       "      <th>Pclass</th>\n",
       "      <th>Name</th>\n",
       "      <th>Sex</th>\n",
       "      <th>Age</th>\n",
       "      <th>SibSp</th>\n",
       "      <th>Parch</th>\n",
       "      <th>Ticket</th>\n",
       "      <th>Fare</th>\n",
       "      <th>Cabin</th>\n",
       "      <th>Embarked</th>\n",
       "      <th>FamilyBin</th>\n",
       "    </tr>\n",
       "  </thead>\n",
       "  <tbody>\n",
       "    <tr>\n",
       "      <th>0</th>\n",
       "      <td>1</td>\n",
       "      <td>0</td>\n",
       "      <td>3</td>\n",
       "      <td>Braund, Mr. Owen Harris</td>\n",
       "      <td>male</td>\n",
       "      <td>22.0</td>\n",
       "      <td>1</td>\n",
       "      <td>0</td>\n",
       "      <td>A/5 21171</td>\n",
       "      <td>7.2500</td>\n",
       "      <td>NaN</td>\n",
       "      <td>S</td>\n",
       "      <td>medium</td>\n",
       "    </tr>\n",
       "    <tr>\n",
       "      <th>1</th>\n",
       "      <td>2</td>\n",
       "      <td>1</td>\n",
       "      <td>1</td>\n",
       "      <td>Cumings, Mrs. John Bradley (Florence Briggs Th...</td>\n",
       "      <td>female</td>\n",
       "      <td>38.0</td>\n",
       "      <td>1</td>\n",
       "      <td>0</td>\n",
       "      <td>PC 17599</td>\n",
       "      <td>71.2833</td>\n",
       "      <td>C85</td>\n",
       "      <td>C</td>\n",
       "      <td>medium</td>\n",
       "    </tr>\n",
       "    <tr>\n",
       "      <th>2</th>\n",
       "      <td>3</td>\n",
       "      <td>1</td>\n",
       "      <td>3</td>\n",
       "      <td>Heikkinen, Miss. Laina</td>\n",
       "      <td>female</td>\n",
       "      <td>26.0</td>\n",
       "      <td>0</td>\n",
       "      <td>0</td>\n",
       "      <td>STON/O2. 3101282</td>\n",
       "      <td>7.9250</td>\n",
       "      <td>NaN</td>\n",
       "      <td>S</td>\n",
       "      <td>small</td>\n",
       "    </tr>\n",
       "    <tr>\n",
       "      <th>3</th>\n",
       "      <td>4</td>\n",
       "      <td>1</td>\n",
       "      <td>1</td>\n",
       "      <td>Futrelle, Mrs. Jacques Heath (Lily May Peel)</td>\n",
       "      <td>female</td>\n",
       "      <td>35.0</td>\n",
       "      <td>1</td>\n",
       "      <td>0</td>\n",
       "      <td>113803</td>\n",
       "      <td>53.1000</td>\n",
       "      <td>C123</td>\n",
       "      <td>S</td>\n",
       "      <td>medium</td>\n",
       "    </tr>\n",
       "    <tr>\n",
       "      <th>4</th>\n",
       "      <td>5</td>\n",
       "      <td>0</td>\n",
       "      <td>3</td>\n",
       "      <td>Allen, Mr. William Henry</td>\n",
       "      <td>male</td>\n",
       "      <td>35.0</td>\n",
       "      <td>0</td>\n",
       "      <td>0</td>\n",
       "      <td>373450</td>\n",
       "      <td>8.0500</td>\n",
       "      <td>NaN</td>\n",
       "      <td>S</td>\n",
       "      <td>small</td>\n",
       "    </tr>\n",
       "  </tbody>\n",
       "</table>\n",
       "</div>"
      ],
      "text/plain": [
       "   PassengerId  Survived  Pclass  \\\n",
       "0            1         0       3   \n",
       "1            2         1       1   \n",
       "2            3         1       3   \n",
       "3            4         1       1   \n",
       "4            5         0       3   \n",
       "\n",
       "                                                Name     Sex   Age  SibSp  \\\n",
       "0                            Braund, Mr. Owen Harris    male  22.0      1   \n",
       "1  Cumings, Mrs. John Bradley (Florence Briggs Th...  female  38.0      1   \n",
       "2                             Heikkinen, Miss. Laina  female  26.0      0   \n",
       "3       Futrelle, Mrs. Jacques Heath (Lily May Peel)  female  35.0      1   \n",
       "4                           Allen, Mr. William Henry    male  35.0      0   \n",
       "\n",
       "   Parch            Ticket     Fare Cabin Embarked FamilyBin  \n",
       "0      0         A/5 21171   7.2500   NaN        S    medium  \n",
       "1      0          PC 17599  71.2833   C85        C    medium  \n",
       "2      0  STON/O2. 3101282   7.9250   NaN        S     small  \n",
       "3      0            113803  53.1000  C123        S    medium  \n",
       "4      0            373450   8.0500   NaN        S     small  "
      ]
     },
     "metadata": {},
     "output_type": "display_data"
    }
   ],
   "source": [
    "df_test = df_train.copy()\n",
    "family_binner = FamilySizeBinner(drop_originals=False)\n",
    "df_test = family_binner.fit_transform(df_test)\n",
    "\n",
    "display(df_test.head())\n"
   ]
  },
  {
   "cell_type": "code",
   "execution_count": null,
   "id": "d251d99b",
   "metadata": {},
   "outputs": [],
   "source": []
  }
 ],
 "metadata": {
  "kernelspec": {
   "display_name": "Python 3 (ipykernel)",
   "language": "python",
   "name": "python3"
  },
  "language_info": {
   "codemirror_mode": {
    "name": "ipython",
    "version": 3
   },
   "file_extension": ".py",
   "mimetype": "text/x-python",
   "name": "python",
   "nbconvert_exporter": "python",
   "pygments_lexer": "ipython3",
   "version": "3.13.4"
  }
 },
 "nbformat": 4,
 "nbformat_minor": 5
}
