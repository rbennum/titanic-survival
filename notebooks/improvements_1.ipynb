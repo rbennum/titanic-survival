{
 "cells": [
  {
   "cell_type": "code",
   "execution_count": 1,
   "id": "335f214f",
   "metadata": {},
   "outputs": [],
   "source": [
    "%load_ext autoreload\n",
    "%autoreload 2\n",
    "%reload_ext autoreload"
   ]
  },
  {
   "cell_type": "markdown",
   "id": "4d678eff",
   "metadata": {},
   "source": [
    "# Predicting Survival on Titanic: Improvement\n",
    "\n",
    "This notebook presents a continuation on the last notebook as we are trying to achieve\n",
    "85% accuracy from our 77% base accuracy. We are also trying to implement a better \n",
    "workflow using `sklearn`'s `Pipeline`, splitting the train dataset, applying cross-validation, \n",
    "spending our time inspecting features to learn more on why, before challenging back\n",
    "the test dataset from Kaggle.\n",
    "\n",
    "It would be a fun journey ahead. Stay tuned."
   ]
  },
  {
   "cell_type": "markdown",
   "id": "20d37517",
   "metadata": {},
   "source": [
    "## Importing Libraries"
   ]
  },
  {
   "cell_type": "code",
   "execution_count": 2,
   "id": "c3f58e72",
   "metadata": {},
   "outputs": [],
   "source": [
    "import pandas as pd\n",
    "import seaborn as sns\n",
    "import numpy as np\n",
    "\n",
    "from sklearn.model_selection import train_test_split\n",
    "\n",
    "from src.utils import skim_data\n",
    "\n",
    "import src.transformers as trf"
   ]
  },
  {
   "cell_type": "markdown",
   "id": "227dc30f",
   "metadata": {},
   "source": [
    "## Reading Datasets"
   ]
  },
  {
   "cell_type": "code",
   "execution_count": 3,
   "id": "a578f39f",
   "metadata": {},
   "outputs": [],
   "source": [
    "df_train = pd.read_csv('input/train.csv')\n",
    "df_test = pd.read_csv('input/test.csv')"
   ]
  },
  {
   "cell_type": "markdown",
   "id": "b2fafe2a",
   "metadata": {},
   "source": [
    "Then from `df_train` I can simply created the famous `X` and `y` variables:"
   ]
  },
  {
   "cell_type": "code",
   "execution_count": 4,
   "id": "79b7a6cc",
   "metadata": {},
   "outputs": [],
   "source": [
    "X = df_train.drop('Survived', axis=1)\n",
    "y = df_train['Survived']"
   ]
  },
  {
   "cell_type": "markdown",
   "id": "723fadfb",
   "metadata": {},
   "source": [
    "## The Workflow\n",
    "\n",
    "There are several steps that I want to try in this improvement:\n",
    "\n",
    "- Train-Test Split\n",
    "\n",
    "Since testing on Kaggle has a limit, it would be best for me to test my model on\n",
    "a data split from the existing training dataset. I decide to spent 20% of the training\n",
    "dataset for my local testing process.\n",
    "\n",
    "- Hyperparameter tuning & cross-validation\n",
    "\n",
    "Hyperparameter is the external configuration settings\n",
    "\n",
    "- Refit on all `X` training data\n",
    "- Evaluation on `y`\n",
    "- Refit on all `df_train` data\n",
    "- Evaluation on Kaggle's `df_test` data\n"
   ]
  },
  {
   "cell_type": "markdown",
   "id": "40a696db",
   "metadata": {},
   "source": [
    "### Split Train Dataset"
   ]
  },
  {
   "cell_type": "code",
   "execution_count": 5,
   "id": "79aa8a28",
   "metadata": {},
   "outputs": [],
   "source": [
    "X_train, X_test, y_train, y_test = train_test_split(X, y, test_size=0.2, random_state=23, stratify=y)"
   ]
  },
  {
   "cell_type": "markdown",
   "id": "22b9b410",
   "metadata": {},
   "source": [
    "Let's see if our datasets have splitted fairly."
   ]
  },
  {
   "cell_type": "code",
   "execution_count": 6,
   "id": "5974ea24",
   "metadata": {},
   "outputs": [
    {
     "data": {
      "text/plain": [
       "Survived\n",
       "0    0.616573\n",
       "1    0.383427\n",
       "Name: count, dtype: float64"
      ]
     },
     "execution_count": 6,
     "metadata": {},
     "output_type": "execute_result"
    }
   ],
   "source": [
    "(\n",
    "    y_train.value_counts() / len(y_train)\n",
    ")"
   ]
  },
  {
   "cell_type": "code",
   "execution_count": 7,
   "id": "e8c28a64",
   "metadata": {},
   "outputs": [
    {
     "data": {
      "text/plain": [
       "Survived\n",
       "0    0.614525\n",
       "1    0.385475\n",
       "Name: count, dtype: float64"
      ]
     },
     "execution_count": 7,
     "metadata": {},
     "output_type": "execute_result"
    }
   ],
   "source": [
    "(\n",
    "    y_test.value_counts() / len(y_test)\n",
    ")"
   ]
  },
  {
   "cell_type": "markdown",
   "id": "efdc21e2",
   "metadata": {},
   "source": [
    "Both `y_train` and `y_test` have been splitted fairly, with class `0` stands at\n",
    "61% and class `1` stands at 38%."
   ]
  },
  {
   "cell_type": "markdown",
   "id": "e0b38202",
   "metadata": {},
   "source": [
    "### Hypertuning Parameters & Cross-Validation\n",
    "\n",
    "Thanks to `sklearn`'s `GridSearchVC`, we can run the hypertuning parameters and\n",
    "cross-validation in one go. There are two things that we need to decide before\n",
    "running them all:\n",
    "\n",
    "- Data Preprocessing and Feature Engineering\n",
    "- Define Parameter Grid"
   ]
  },
  {
   "cell_type": "markdown",
   "id": "d63a6392",
   "metadata": {},
   "source": [
    "#### Data Preprocessing & Feature Engineering\n",
    "\n",
    "In our previous exploration, we already defined how we done both the data processing\n",
    "and feature engineering:\n",
    "\n",
    "- Extracts `Title` from `Name`, whilst replacing the rare ones.\n",
    "- Creates a `HasCabin` feature\n",
    "- Imputes missing `Age` values based on the `Title`.\n",
    "- Imputes missing `Embarked` values based on the mode, which is `S` for Southampton.\n",
    "- Encode the `Sex`, `Embarked`, and `Title`, which are the categorical features,\n",
    "by using `OneHotEncoding`.\n",
    "- Encode the `Pclass`, `Age`, `SibSp`, `Parch`, and `Fare`, which are the numerical\n",
    "features, by using `StandardScaler`.\n",
    "- Drop any features that aren't mentioned.\n",
    "\n",
    "But after exploring the discussion related to the challenge, I would like to test\n",
    "for a new feature, whether it's significant or not. It's called `family_size`, which\n",
    "combines the values of `SibSp` and `Parch` and adds one for the individual themselves.\n",
    "Let's try it out first before putting the previous processes into the pipeline."
   ]
  },
  {
   "cell_type": "markdown",
   "id": "0606922a",
   "metadata": {},
   "source": [
    "##### `FamilySize` Matters\n",
    "\n",
    "We'll start comparing it against the average of survived people."
   ]
  },
  {
   "cell_type": "code",
   "execution_count": 8,
   "id": "e57e64b5",
   "metadata": {},
   "outputs": [
    {
     "data": {
      "text/plain": [
       "<Axes: xlabel='FamilySize', ylabel='Survived'>"
      ]
     },
     "execution_count": 8,
     "metadata": {},
     "output_type": "execute_result"
    },
    {
     "data": {
      "image/png": "[encoded data removed]",
      "text/plain": [
       "<Figure size 640x480 with 1 Axes>"
      ]
     },
     "metadata": {},
     "output_type": "display_data"
    }
   ],
   "source": [
    "df_temp = df_train.copy()\n",
    "\n",
    "df_temp = (\n",
    "    df_temp\n",
    "    .assign(\n",
    "        FamilySize=lambda x: x['SibSp'] + x['Parch'] + 1\n",
    "    )\n",
    "    .groupby('FamilySize', as_index=False)\n",
    "    .agg({'Survived': 'mean'})\n",
    ")\n",
    "\n",
    "sns.barplot(data=df_temp, x='FamilySize', y='Survived')"
   ]
  },
  {
   "cell_type": "markdown",
   "id": "e8236a91",
   "metadata": {},
   "source": [
    "We can see that there is an apparent distinction comes from family size 1, \n",
    "family size 2-4, and family size > 5. Based on this distinction, I would create \n",
    "a binned property that divides this into three parts: small (family size 1), \n",
    "medium (family size 2-4), and large (family size > 5). This is also because\n",
    "binned properties are better used when utilizing linear-typed models. Since\n",
    "I'm using LinearSVC, in theory it would fit perfectly."
   ]
  },
  {
   "cell_type": "code",
   "execution_count": 9,
   "id": "363bd010",
   "metadata": {},
   "outputs": [
    {
     "data": {
      "text/html": [
       "<div>\n",
       "<style scoped>\n",
       "    .dataframe tbody tr th:only-of-type {\n",
       "        vertical-align: middle;\n",
       "    }\n",
       "\n",
       "    .dataframe tbody tr th {\n",
       "        vertical-align: top;\n",
       "    }\n",
       "\n",
       "    .dataframe thead th {\n",
       "        text-align: right;\n",
       "    }\n",
       "</style>\n",
       "<table border=\"1\" class=\"dataframe\">\n",
       "  <thead>\n",
       "    <tr style=\"text-align: right;\">\n",
       "      <th></th>\n",
       "      <th>FamilySize</th>\n",
       "      <th>Survived</th>\n",
       "      <th>FamilyBin</th>\n",
       "    </tr>\n",
       "  </thead>\n",
       "  <tbody>\n",
       "    <tr>\n",
       "      <th>0</th>\n",
       "      <td>1</td>\n",
       "      <td>0.303538</td>\n",
       "      <td>small</td>\n",
       "    </tr>\n",
       "    <tr>\n",
       "      <th>1</th>\n",
       "      <td>2</td>\n",
       "      <td>0.552795</td>\n",
       "      <td>medium</td>\n",
       "    </tr>\n",
       "    <tr>\n",
       "      <th>2</th>\n",
       "      <td>3</td>\n",
       "      <td>0.578431</td>\n",
       "      <td>medium</td>\n",
       "    </tr>\n",
       "    <tr>\n",
       "      <th>3</th>\n",
       "      <td>4</td>\n",
       "      <td>0.724138</td>\n",
       "      <td>medium</td>\n",
       "    </tr>\n",
       "    <tr>\n",
       "      <th>4</th>\n",
       "      <td>5</td>\n",
       "      <td>0.200000</td>\n",
       "      <td>large</td>\n",
       "    </tr>\n",
       "    <tr>\n",
       "      <th>5</th>\n",
       "      <td>6</td>\n",
       "      <td>0.136364</td>\n",
       "      <td>large</td>\n",
       "    </tr>\n",
       "    <tr>\n",
       "      <th>6</th>\n",
       "      <td>7</td>\n",
       "      <td>0.333333</td>\n",
       "      <td>large</td>\n",
       "    </tr>\n",
       "    <tr>\n",
       "      <th>7</th>\n",
       "      <td>8</td>\n",
       "      <td>0.000000</td>\n",
       "      <td>large</td>\n",
       "    </tr>\n",
       "    <tr>\n",
       "      <th>8</th>\n",
       "      <td>11</td>\n",
       "      <td>0.000000</td>\n",
       "      <td>large</td>\n",
       "    </tr>\n",
       "  </tbody>\n",
       "</table>\n",
       "</div>"
      ],
      "text/plain": [
       "   FamilySize  Survived FamilyBin\n",
       "0           1  0.303538     small\n",
       "1           2  0.552795    medium\n",
       "2           3  0.578431    medium\n",
       "3           4  0.724138    medium\n",
       "4           5  0.200000     large\n",
       "5           6  0.136364     large\n",
       "6           7  0.333333     large\n",
       "7           8  0.000000     large\n",
       "8          11  0.000000     large"
      ]
     },
     "execution_count": 9,
     "metadata": {},
     "output_type": "execute_result"
    }
   ],
   "source": [
    "bins = [0, 1, 4, np.inf]\n",
    "labels = ['small', 'medium', 'large']\n",
    "\n",
    "df_temp['FamilyBin'] = pd.cut(df_temp['FamilySize'], bins=bins, labels=labels)\n",
    "\n",
    "df_temp"
   ]
  },
  {
   "cell_type": "code",
   "execution_count": 10,
   "id": "8af151ea",
   "metadata": {},
   "outputs": [
    {
     "data": {
      "text/plain": [
       "<Axes: xlabel='FamilyBin', ylabel='Survived'>"
      ]
     },
     "execution_count": 10,
     "metadata": {},
     "output_type": "execute_result"
    },
    {
     "data": {
      "image/png": "[encoded data removed]",
      "text/plain": [
       "<Figure size 640x480 with 1 Axes>"
      ]
     },
     "metadata": {},
     "output_type": "display_data"
    }
   ],
   "source": [
    "sns.barplot(data=df_temp, x='FamilyBin', y='Survived')"
   ]
  },
  {
   "cell_type": "markdown",
   "id": "5a23ae74",
   "metadata": {},
   "source": [
    "I have created a separate function called `FamilyBinFeatureExtractor`. Let's try it:"
   ]
  },
  {
   "cell_type": "code",
   "execution_count": 11,
   "id": "34a10291",
   "metadata": {},
   "outputs": [
    {
     "data": {
      "text/html": [
       "<div>\n",
       "<style scoped>\n",
       "    .dataframe tbody tr th:only-of-type {\n",
       "        vertical-align: middle;\n",
       "    }\n",
       "\n",
       "    .dataframe tbody tr th {\n",
       "        vertical-align: top;\n",
       "    }\n",
       "\n",
       "    .dataframe thead th {\n",
       "        text-align: right;\n",
       "    }\n",
       "</style>\n",
       "<table border=\"1\" class=\"dataframe\">\n",
       "  <thead>\n",
       "    <tr style=\"text-align: right;\">\n",
       "      <th></th>\n",
       "      <th>FamilyBin</th>\n",
       "    </tr>\n",
       "  </thead>\n",
       "  <tbody>\n",
       "    <tr>\n",
       "      <th>0</th>\n",
       "      <td>Small</td>\n",
       "    </tr>\n",
       "    <tr>\n",
       "      <th>1</th>\n",
       "      <td>Small</td>\n",
       "    </tr>\n",
       "    <tr>\n",
       "      <th>2</th>\n",
       "      <td>Large</td>\n",
       "    </tr>\n",
       "    <tr>\n",
       "      <th>3</th>\n",
       "      <td>Large</td>\n",
       "    </tr>\n",
       "    <tr>\n",
       "      <th>4</th>\n",
       "      <td>Large</td>\n",
       "    </tr>\n",
       "    <tr>\n",
       "      <th>...</th>\n",
       "      <td>...</td>\n",
       "    </tr>\n",
       "    <tr>\n",
       "      <th>886</th>\n",
       "      <td>Large</td>\n",
       "    </tr>\n",
       "    <tr>\n",
       "      <th>887</th>\n",
       "      <td>Large</td>\n",
       "    </tr>\n",
       "    <tr>\n",
       "      <th>888</th>\n",
       "      <td>Large</td>\n",
       "    </tr>\n",
       "    <tr>\n",
       "      <th>889</th>\n",
       "      <td>Large</td>\n",
       "    </tr>\n",
       "    <tr>\n",
       "      <th>890</th>\n",
       "      <td>Large</td>\n",
       "    </tr>\n",
       "  </tbody>\n",
       "</table>\n",
       "<p>891 rows × 1 columns</p>\n",
       "</div>"
      ],
      "text/plain": [
       "    FamilyBin\n",
       "0       Small\n",
       "1       Small\n",
       "2       Large\n",
       "3       Large\n",
       "4       Large\n",
       "..        ...\n",
       "886     Large\n",
       "887     Large\n",
       "888     Large\n",
       "889     Large\n",
       "890     Large\n",
       "\n",
       "[891 rows x 1 columns]"
      ]
     },
     "metadata": {},
     "output_type": "display_data"
    }
   ],
   "source": [
    "df_temp = df_train.copy()\n",
    "family_binner = trf.FamilyBinExtractor()\n",
    "df_temp = family_binner.fit_transform(df_temp)\n",
    "\n",
    "display(df_temp)"
   ]
  },
  {
   "cell_type": "code",
   "execution_count": 12,
   "id": "d251d99b",
   "metadata": {},
   "outputs": [
    {
     "name": "stdout",
     "output_type": "stream",
     "text": [
      "Total duplicate rows: 0\n",
      "DF shape: (418, 11)\n"
     ]
    },
    {
     "data": {
      "text/html": [
       "<div>\n",
       "<style scoped>\n",
       "    .dataframe tbody tr th:only-of-type {\n",
       "        vertical-align: middle;\n",
       "    }\n",
       "\n",
       "    .dataframe tbody tr th {\n",
       "        vertical-align: top;\n",
       "    }\n",
       "\n",
       "    .dataframe thead th {\n",
       "        text-align: right;\n",
       "    }\n",
       "</style>\n",
       "<table border=\"1\" class=\"dataframe\">\n",
       "  <thead>\n",
       "    <tr style=\"text-align: right;\">\n",
       "      <th></th>\n",
       "      <th>feature</th>\n",
       "      <th>dtype</th>\n",
       "      <th>null_%</th>\n",
       "      <th>negative_%</th>\n",
       "      <th>zero_%</th>\n",
       "      <th>n_unique</th>\n",
       "      <th>unique_%</th>\n",
       "      <th>sample_values</th>\n",
       "    </tr>\n",
       "  </thead>\n",
       "  <tbody>\n",
       "    <tr>\n",
       "      <th>0</th>\n",
       "      <td>PassengerId</td>\n",
       "      <td>int64</td>\n",
       "      <td>0.000</td>\n",
       "      <td>0.0</td>\n",
       "      <td>0.0</td>\n",
       "      <td>418</td>\n",
       "      <td>100.00</td>\n",
       "      <td>[892, 893, 894, 895, 896]</td>\n",
       "    </tr>\n",
       "    <tr>\n",
       "      <th>1</th>\n",
       "      <td>Pclass</td>\n",
       "      <td>int64</td>\n",
       "      <td>0.000</td>\n",
       "      <td>0.0</td>\n",
       "      <td>0.0</td>\n",
       "      <td>3</td>\n",
       "      <td>0.72</td>\n",
       "      <td>[3, 2, 1]</td>\n",
       "    </tr>\n",
       "    <tr>\n",
       "      <th>2</th>\n",
       "      <td>Name</td>\n",
       "      <td>object</td>\n",
       "      <td>0.000</td>\n",
       "      <td>-</td>\n",
       "      <td>-</td>\n",
       "      <td>418</td>\n",
       "      <td>100.00</td>\n",
       "      <td>[Kelly, Mr. James, Wilkes, Mrs. James (Ellen N...</td>\n",
       "    </tr>\n",
       "    <tr>\n",
       "      <th>3</th>\n",
       "      <td>Sex</td>\n",
       "      <td>object</td>\n",
       "      <td>0.000</td>\n",
       "      <td>-</td>\n",
       "      <td>-</td>\n",
       "      <td>2</td>\n",
       "      <td>0.48</td>\n",
       "      <td>[male, female]</td>\n",
       "    </tr>\n",
       "    <tr>\n",
       "      <th>4</th>\n",
       "      <td>Age</td>\n",
       "      <td>float64</td>\n",
       "      <td>20.574</td>\n",
       "      <td>0.0</td>\n",
       "      <td>0.0</td>\n",
       "      <td>79</td>\n",
       "      <td>18.90</td>\n",
       "      <td>[34.5, 47.0, 62.0, 27.0, 22.0]</td>\n",
       "    </tr>\n",
       "    <tr>\n",
       "      <th>5</th>\n",
       "      <td>SibSp</td>\n",
       "      <td>int64</td>\n",
       "      <td>0.000</td>\n",
       "      <td>0.0</td>\n",
       "      <td>67.703</td>\n",
       "      <td>7</td>\n",
       "      <td>1.67</td>\n",
       "      <td>[0, 1, 2, 3, 4]</td>\n",
       "    </tr>\n",
       "    <tr>\n",
       "      <th>6</th>\n",
       "      <td>Parch</td>\n",
       "      <td>int64</td>\n",
       "      <td>0.000</td>\n",
       "      <td>0.0</td>\n",
       "      <td>77.512</td>\n",
       "      <td>8</td>\n",
       "      <td>1.91</td>\n",
       "      <td>[0, 1, 3, 2, 4]</td>\n",
       "    </tr>\n",
       "    <tr>\n",
       "      <th>7</th>\n",
       "      <td>Ticket</td>\n",
       "      <td>object</td>\n",
       "      <td>0.000</td>\n",
       "      <td>-</td>\n",
       "      <td>-</td>\n",
       "      <td>363</td>\n",
       "      <td>86.84</td>\n",
       "      <td>[330911, 363272, 240276, 315154, 3101298]</td>\n",
       "    </tr>\n",
       "    <tr>\n",
       "      <th>8</th>\n",
       "      <td>Fare</td>\n",
       "      <td>float64</td>\n",
       "      <td>0.239</td>\n",
       "      <td>0.0</td>\n",
       "      <td>0.478</td>\n",
       "      <td>169</td>\n",
       "      <td>40.43</td>\n",
       "      <td>[7.8292, 7.0, 9.6875, 8.6625, 12.2875]</td>\n",
       "    </tr>\n",
       "    <tr>\n",
       "      <th>9</th>\n",
       "      <td>Cabin</td>\n",
       "      <td>object</td>\n",
       "      <td>78.230</td>\n",
       "      <td>-</td>\n",
       "      <td>-</td>\n",
       "      <td>76</td>\n",
       "      <td>18.18</td>\n",
       "      <td>[B45, E31, B57 B59 B63 B66, B36, A21]</td>\n",
       "    </tr>\n",
       "    <tr>\n",
       "      <th>10</th>\n",
       "      <td>Embarked</td>\n",
       "      <td>object</td>\n",
       "      <td>0.000</td>\n",
       "      <td>-</td>\n",
       "      <td>-</td>\n",
       "      <td>3</td>\n",
       "      <td>0.72</td>\n",
       "      <td>[Q, S, C]</td>\n",
       "    </tr>\n",
       "  </tbody>\n",
       "</table>\n",
       "</div>"
      ],
      "text/plain": [
       "        feature    dtype  null_% negative_%  zero_%  n_unique  unique_%  \\\n",
       "0   PassengerId    int64   0.000        0.0     0.0       418    100.00   \n",
       "1        Pclass    int64   0.000        0.0     0.0         3      0.72   \n",
       "2          Name   object   0.000          -       -       418    100.00   \n",
       "3           Sex   object   0.000          -       -         2      0.48   \n",
       "4           Age  float64  20.574        0.0     0.0        79     18.90   \n",
       "5         SibSp    int64   0.000        0.0  67.703         7      1.67   \n",
       "6         Parch    int64   0.000        0.0  77.512         8      1.91   \n",
       "7        Ticket   object   0.000          -       -       363     86.84   \n",
       "8          Fare  float64   0.239        0.0   0.478       169     40.43   \n",
       "9         Cabin   object  78.230          -       -        76     18.18   \n",
       "10     Embarked   object   0.000          -       -         3      0.72   \n",
       "\n",
       "                                        sample_values  \n",
       "0                           [892, 893, 894, 895, 896]  \n",
       "1                                           [3, 2, 1]  \n",
       "2   [Kelly, Mr. James, Wilkes, Mrs. James (Ellen N...  \n",
       "3                                      [male, female]  \n",
       "4                      [34.5, 47.0, 62.0, 27.0, 22.0]  \n",
       "5                                     [0, 1, 2, 3, 4]  \n",
       "6                                     [0, 1, 3, 2, 4]  \n",
       "7           [330911, 363272, 240276, 315154, 3101298]  \n",
       "8              [7.8292, 7.0, 9.6875, 8.6625, 12.2875]  \n",
       "9               [B45, E31, B57 B59 B63 B66, B36, A21]  \n",
       "10                                          [Q, S, C]  "
      ]
     },
     "execution_count": 12,
     "metadata": {},
     "output_type": "execute_result"
    }
   ],
   "source": [
    "skim_data(df_test)"
   ]
  },
  {
   "cell_type": "code",
   "execution_count": 13,
   "id": "4f9f9fac",
   "metadata": {},
   "outputs": [
    {
     "name": "stdout",
     "output_type": "stream",
     "text": [
      "Total duplicate rows: 0\n",
      "DF shape: (891, 12)\n"
     ]
    },
    {
     "data": {
      "text/html": [
       "<div>\n",
       "<style scoped>\n",
       "    .dataframe tbody tr th:only-of-type {\n",
       "        vertical-align: middle;\n",
       "    }\n",
       "\n",
       "    .dataframe tbody tr th {\n",
       "        vertical-align: top;\n",
       "    }\n",
       "\n",
       "    .dataframe thead th {\n",
       "        text-align: right;\n",
       "    }\n",
       "</style>\n",
       "<table border=\"1\" class=\"dataframe\">\n",
       "  <thead>\n",
       "    <tr style=\"text-align: right;\">\n",
       "      <th></th>\n",
       "      <th>feature</th>\n",
       "      <th>dtype</th>\n",
       "      <th>null_%</th>\n",
       "      <th>negative_%</th>\n",
       "      <th>zero_%</th>\n",
       "      <th>n_unique</th>\n",
       "      <th>unique_%</th>\n",
       "      <th>sample_values</th>\n",
       "    </tr>\n",
       "  </thead>\n",
       "  <tbody>\n",
       "    <tr>\n",
       "      <th>0</th>\n",
       "      <td>PassengerId</td>\n",
       "      <td>int64</td>\n",
       "      <td>0.000</td>\n",
       "      <td>0.0</td>\n",
       "      <td>0.0</td>\n",
       "      <td>891</td>\n",
       "      <td>100.00</td>\n",
       "      <td>[1, 2, 3, 4, 5]</td>\n",
       "    </tr>\n",
       "    <tr>\n",
       "      <th>1</th>\n",
       "      <td>Survived</td>\n",
       "      <td>int64</td>\n",
       "      <td>0.000</td>\n",
       "      <td>0.0</td>\n",
       "      <td>61.616</td>\n",
       "      <td>2</td>\n",
       "      <td>0.22</td>\n",
       "      <td>[0, 1]</td>\n",
       "    </tr>\n",
       "    <tr>\n",
       "      <th>2</th>\n",
       "      <td>Pclass</td>\n",
       "      <td>int64</td>\n",
       "      <td>0.000</td>\n",
       "      <td>0.0</td>\n",
       "      <td>0.0</td>\n",
       "      <td>3</td>\n",
       "      <td>0.34</td>\n",
       "      <td>[3, 1, 2]</td>\n",
       "    </tr>\n",
       "    <tr>\n",
       "      <th>3</th>\n",
       "      <td>Name</td>\n",
       "      <td>object</td>\n",
       "      <td>0.000</td>\n",
       "      <td>-</td>\n",
       "      <td>-</td>\n",
       "      <td>891</td>\n",
       "      <td>100.00</td>\n",
       "      <td>[Braund, Mr. Owen Harris, Cumings, Mrs. John B...</td>\n",
       "    </tr>\n",
       "    <tr>\n",
       "      <th>4</th>\n",
       "      <td>Sex</td>\n",
       "      <td>object</td>\n",
       "      <td>0.000</td>\n",
       "      <td>-</td>\n",
       "      <td>-</td>\n",
       "      <td>2</td>\n",
       "      <td>0.22</td>\n",
       "      <td>[male, female]</td>\n",
       "    </tr>\n",
       "    <tr>\n",
       "      <th>5</th>\n",
       "      <td>Age</td>\n",
       "      <td>float64</td>\n",
       "      <td>19.865</td>\n",
       "      <td>0.0</td>\n",
       "      <td>0.0</td>\n",
       "      <td>88</td>\n",
       "      <td>9.88</td>\n",
       "      <td>[22.0, 38.0, 26.0, 35.0, 54.0]</td>\n",
       "    </tr>\n",
       "    <tr>\n",
       "      <th>6</th>\n",
       "      <td>SibSp</td>\n",
       "      <td>int64</td>\n",
       "      <td>0.000</td>\n",
       "      <td>0.0</td>\n",
       "      <td>68.238</td>\n",
       "      <td>7</td>\n",
       "      <td>0.79</td>\n",
       "      <td>[1, 0, 3, 4, 2]</td>\n",
       "    </tr>\n",
       "    <tr>\n",
       "      <th>7</th>\n",
       "      <td>Parch</td>\n",
       "      <td>int64</td>\n",
       "      <td>0.000</td>\n",
       "      <td>0.0</td>\n",
       "      <td>76.094</td>\n",
       "      <td>7</td>\n",
       "      <td>0.79</td>\n",
       "      <td>[0, 1, 2, 5, 3]</td>\n",
       "    </tr>\n",
       "    <tr>\n",
       "      <th>8</th>\n",
       "      <td>Ticket</td>\n",
       "      <td>object</td>\n",
       "      <td>0.000</td>\n",
       "      <td>-</td>\n",
       "      <td>-</td>\n",
       "      <td>681</td>\n",
       "      <td>76.43</td>\n",
       "      <td>[A/5 21171, PC 17599, STON/O2. 3101282, 113803...</td>\n",
       "    </tr>\n",
       "    <tr>\n",
       "      <th>9</th>\n",
       "      <td>Fare</td>\n",
       "      <td>float64</td>\n",
       "      <td>0.000</td>\n",
       "      <td>0.0</td>\n",
       "      <td>1.684</td>\n",
       "      <td>248</td>\n",
       "      <td>27.83</td>\n",
       "      <td>[7.25, 71.2833, 7.925, 53.1, 8.05]</td>\n",
       "    </tr>\n",
       "    <tr>\n",
       "      <th>10</th>\n",
       "      <td>Cabin</td>\n",
       "      <td>object</td>\n",
       "      <td>77.104</td>\n",
       "      <td>-</td>\n",
       "      <td>-</td>\n",
       "      <td>147</td>\n",
       "      <td>16.50</td>\n",
       "      <td>[C85, C123, E46, G6, C103]</td>\n",
       "    </tr>\n",
       "    <tr>\n",
       "      <th>11</th>\n",
       "      <td>Embarked</td>\n",
       "      <td>object</td>\n",
       "      <td>0.224</td>\n",
       "      <td>-</td>\n",
       "      <td>-</td>\n",
       "      <td>3</td>\n",
       "      <td>0.34</td>\n",
       "      <td>[S, C, Q]</td>\n",
       "    </tr>\n",
       "  </tbody>\n",
       "</table>\n",
       "</div>"
      ],
      "text/plain": [
       "        feature    dtype  null_% negative_%  zero_%  n_unique  unique_%  \\\n",
       "0   PassengerId    int64   0.000        0.0     0.0       891    100.00   \n",
       "1      Survived    int64   0.000        0.0  61.616         2      0.22   \n",
       "2        Pclass    int64   0.000        0.0     0.0         3      0.34   \n",
       "3          Name   object   0.000          -       -       891    100.00   \n",
       "4           Sex   object   0.000          -       -         2      0.22   \n",
       "5           Age  float64  19.865        0.0     0.0        88      9.88   \n",
       "6         SibSp    int64   0.000        0.0  68.238         7      0.79   \n",
       "7         Parch    int64   0.000        0.0  76.094         7      0.79   \n",
       "8        Ticket   object   0.000          -       -       681     76.43   \n",
       "9          Fare  float64   0.000        0.0   1.684       248     27.83   \n",
       "10        Cabin   object  77.104          -       -       147     16.50   \n",
       "11     Embarked   object   0.224          -       -         3      0.34   \n",
       "\n",
       "                                        sample_values  \n",
       "0                                     [1, 2, 3, 4, 5]  \n",
       "1                                              [0, 1]  \n",
       "2                                           [3, 1, 2]  \n",
       "3   [Braund, Mr. Owen Harris, Cumings, Mrs. John B...  \n",
       "4                                      [male, female]  \n",
       "5                      [22.0, 38.0, 26.0, 35.0, 54.0]  \n",
       "6                                     [1, 0, 3, 4, 2]  \n",
       "7                                     [0, 1, 2, 5, 3]  \n",
       "8   [A/5 21171, PC 17599, STON/O2. 3101282, 113803...  \n",
       "9                  [7.25, 71.2833, 7.925, 53.1, 8.05]  \n",
       "10                         [C85, C123, E46, G6, C103]  \n",
       "11                                          [S, C, Q]  "
      ]
     },
     "execution_count": 13,
     "metadata": {},
     "output_type": "execute_result"
    }
   ],
   "source": [
    "skim_data(df_train)"
   ]
  },
  {
   "cell_type": "code",
   "execution_count": 14,
   "id": "f61349e6",
   "metadata": {},
   "outputs": [
    {
     "data": {
      "text/plain": [
       "<Axes: xlabel='Pclass', ylabel='count'>"
      ]
     },
     "execution_count": 14,
     "metadata": {},
     "output_type": "execute_result"
    },
    {
     "data": {
      "image/png": "[encoded data removed]",
      "text/plain": [
       "<Figure size 640x480 with 1 Axes>"
      ]
     },
     "metadata": {},
     "output_type": "display_data"
    }
   ],
   "source": [
    "sns.countplot(data=df_train, x='Pclass')"
   ]
  },
  {
   "cell_type": "code",
   "execution_count": 15,
   "id": "6a872fdc",
   "metadata": {},
   "outputs": [
    {
     "data": {
      "text/plain": [
       "<Axes: xlabel='Pclass', ylabel='Count'>"
      ]
     },
     "execution_count": 15,
     "metadata": {},
     "output_type": "execute_result"
    },
    {
     "data": {
      "image/png": "[encoded data removed]",
      "text/plain": [
       "<Figure size 640x480 with 1 Axes>"
      ]
     },
     "metadata": {},
     "output_type": "display_data"
    }
   ],
   "source": [
    "crosstab_result = pd.crosstab(df_train['Pclass'], df_train['Survived'])\n",
    "stacked_data = crosstab_result.stack().reset_index().rename(columns={0:'Count'})\n",
    "sns.barplot(data=stacked_data, x='Pclass', y='Count', hue='Survived')"
   ]
  },
  {
   "cell_type": "code",
   "execution_count": 16,
   "id": "7896899a",
   "metadata": {},
   "outputs": [
    {
     "data": {
      "text/plain": [
       "0        Mr\n",
       "1       Mrs\n",
       "2      Miss\n",
       "3       Mrs\n",
       "4        Mr\n",
       "       ... \n",
       "886    Rare\n",
       "887    Miss\n",
       "888    Miss\n",
       "889      Mr\n",
       "890      Mr\n",
       "Name: Title, Length: 891, dtype: object"
      ]
     },
     "metadata": {},
     "output_type": "display_data"
    },
    {
     "data": {
      "text/plain": [
       "{'Master': 3.5, 'Miss': 21.0, 'Mr': 30.0, 'Mrs': 35.0, 'Rare': 48.5}"
      ]
     },
     "metadata": {},
     "output_type": "display_data"
    },
    {
     "data": {
      "text/plain": [
       "np.float64(28.0)"
      ]
     },
     "metadata": {},
     "output_type": "display_data"
    }
   ],
   "source": [
    "def _clean_title(title):\n",
    "    if title in ['Ms', 'Mlle']: return 'Miss'\n",
    "    if title in ['Mme']: return 'Mrs'\n",
    "    return title\n",
    "\n",
    "X_fit = df_train.copy()\n",
    "titles = (\n",
    "    X_fit['Name']\n",
    "    .str.extract(r' ([A-Za-z]+)\\.', expand=False)\n",
    "    .apply(_clean_title)\n",
    ")\n",
    "\n",
    "counts = titles.value_counts()\n",
    "threshold = counts.get('Master', 0)\n",
    "rare_titles = counts[counts < threshold].index.tolist()\n",
    "X_fit['Title'] = titles.replace(rare_titles, 'Rare')\n",
    "display(X_fit['Title'])\n",
    "title_median_map_ = X_fit.groupby('Title')['Age'].median().to_dict()\n",
    "global_median_ = X['Age'].median()\n",
    "display(title_median_map_)\n",
    "display(global_median_)"
   ]
  },
  {
   "cell_type": "code",
   "execution_count": 17,
   "id": "d92ffe1b",
   "metadata": {},
   "outputs": [
    {
     "data": {
      "text/plain": [
       "array([22.  , 38.  , 26.  , 35.  ,   nan, 54.  ,  2.  , 27.  , 14.  ,\n",
       "        4.  , 58.  , 20.  , 39.  , 55.  , 31.  , 34.  , 15.  , 28.  ,\n",
       "        8.  , 19.  , 40.  , 66.  , 42.  , 21.  , 18.  ,  3.  ,  7.  ,\n",
       "       49.  , 29.  , 65.  , 28.5 ,  5.  , 11.  , 45.  , 17.  , 32.  ,\n",
       "       16.  , 25.  ,  0.83, 30.  , 33.  , 23.  , 24.  , 46.  , 59.  ,\n",
       "       71.  , 37.  , 47.  , 14.5 , 70.5 , 32.5 , 12.  ,  9.  , 36.5 ,\n",
       "       51.  , 55.5 , 40.5 , 44.  ,  1.  , 61.  , 56.  , 50.  , 36.  ,\n",
       "       45.5 , 20.5 , 62.  , 41.  , 52.  , 63.  , 23.5 ,  0.92, 43.  ,\n",
       "       60.  , 10.  , 64.  , 13.  , 48.  ,  0.75, 53.  , 57.  , 80.  ,\n",
       "       70.  , 24.5 ,  6.  ,  0.67, 30.5 ,  0.42, 34.5 , 74.  ])"
      ]
     },
     "execution_count": 17,
     "metadata": {},
     "output_type": "execute_result"
    }
   ],
   "source": [
    "df_train['Age'].unique()"
   ]
  },
  {
   "cell_type": "code",
   "execution_count": 18,
   "id": "b1848590",
   "metadata": {},
   "outputs": [
    {
     "data": {
      "text/html": [
       "<div>\n",
       "<style scoped>\n",
       "    .dataframe tbody tr th:only-of-type {\n",
       "        vertical-align: middle;\n",
       "    }\n",
       "\n",
       "    .dataframe tbody tr th {\n",
       "        vertical-align: top;\n",
       "    }\n",
       "\n",
       "    .dataframe thead th {\n",
       "        text-align: right;\n",
       "    }\n",
       "</style>\n",
       "<table border=\"1\" class=\"dataframe\">\n",
       "  <thead>\n",
       "    <tr style=\"text-align: right;\">\n",
       "      <th></th>\n",
       "      <th>Age</th>\n",
       "      <th>Title</th>\n",
       "    </tr>\n",
       "  </thead>\n",
       "  <tbody>\n",
       "    <tr>\n",
       "      <th>541</th>\n",
       "      <td>9.0</td>\n",
       "      <td>Miss</td>\n",
       "    </tr>\n",
       "    <tr>\n",
       "      <th>306</th>\n",
       "      <td>22.0</td>\n",
       "      <td>Miss</td>\n",
       "    </tr>\n",
       "    <tr>\n",
       "      <th>454</th>\n",
       "      <td>30.0</td>\n",
       "      <td>Mr</td>\n",
       "    </tr>\n",
       "    <tr>\n",
       "      <th>199</th>\n",
       "      <td>24.0</td>\n",
       "      <td>Miss</td>\n",
       "    </tr>\n",
       "    <tr>\n",
       "      <th>397</th>\n",
       "      <td>46.0</td>\n",
       "      <td>Mr</td>\n",
       "    </tr>\n",
       "    <tr>\n",
       "      <th>...</th>\n",
       "      <td>...</td>\n",
       "      <td>...</td>\n",
       "    </tr>\n",
       "    <tr>\n",
       "      <th>51</th>\n",
       "      <td>21.0</td>\n",
       "      <td>Mr</td>\n",
       "    </tr>\n",
       "    <tr>\n",
       "      <th>590</th>\n",
       "      <td>35.0</td>\n",
       "      <td>Mr</td>\n",
       "    </tr>\n",
       "    <tr>\n",
       "      <th>41</th>\n",
       "      <td>27.0</td>\n",
       "      <td>Mrs</td>\n",
       "    </tr>\n",
       "    <tr>\n",
       "      <th>23</th>\n",
       "      <td>28.0</td>\n",
       "      <td>Mr</td>\n",
       "    </tr>\n",
       "    <tr>\n",
       "      <th>673</th>\n",
       "      <td>31.0</td>\n",
       "      <td>Mr</td>\n",
       "    </tr>\n",
       "  </tbody>\n",
       "</table>\n",
       "<p>712 rows × 2 columns</p>\n",
       "</div>"
      ],
      "text/plain": [
       "      Age Title\n",
       "541   9.0  Miss\n",
       "306  22.0  Miss\n",
       "454  30.0    Mr\n",
       "199  24.0  Miss\n",
       "397  46.0    Mr\n",
       "..    ...   ...\n",
       "51   21.0    Mr\n",
       "590  35.0    Mr\n",
       "41   27.0   Mrs\n",
       "23   28.0    Mr\n",
       "673  31.0    Mr\n",
       "\n",
       "[712 rows x 2 columns]"
      ]
     },
     "metadata": {},
     "output_type": "display_data"
    }
   ],
   "source": [
    "import src.transformers as trf\n",
    "\n",
    "imputer = trf.TitleBasedAgeImputer()\n",
    "X_temp = imputer.fit_transform(X_train)\n",
    "display(X_temp)"
   ]
  },
  {
   "cell_type": "code",
   "execution_count": null,
   "id": "268c58a3",
   "metadata": {},
   "outputs": [
    {
     "data": {
      "text/html": [
       "<div>\n",
       "<style scoped>\n",
       "    .dataframe tbody tr th:only-of-type {\n",
       "        vertical-align: middle;\n",
       "    }\n",
       "\n",
       "    .dataframe tbody tr th {\n",
       "        vertical-align: top;\n",
       "    }\n",
       "\n",
       "    .dataframe thead th {\n",
       "        text-align: right;\n",
       "    }\n",
       "</style>\n",
       "<table border=\"1\" class=\"dataframe\">\n",
       "  <thead>\n",
       "    <tr style=\"text-align: right;\">\n",
       "      <th></th>\n",
       "      <th>family_binner__FamilyBin</th>\n",
       "      <th>cabin_indicator__HasCabin</th>\n",
       "      <th>title_age_imputer__Age</th>\n",
       "      <th>title_age_imputer__Title</th>\n",
       "      <th>fare_imputer__Fare</th>\n",
       "      <th>embarked_imputer__Embarked</th>\n",
       "      <th>remainder__PassengerId</th>\n",
       "      <th>remainder__Pclass</th>\n",
       "      <th>remainder__Sex</th>\n",
       "      <th>remainder__Ticket</th>\n",
       "    </tr>\n",
       "  </thead>\n",
       "  <tbody>\n",
       "    <tr>\n",
       "      <th>541</th>\n",
       "      <td>Large</td>\n",
       "      <td>0</td>\n",
       "      <td>9.0</td>\n",
       "      <td>Miss</td>\n",
       "      <td>31.275</td>\n",
       "      <td>S</td>\n",
       "      <td>542</td>\n",
       "      <td>3</td>\n",
       "      <td>female</td>\n",
       "      <td>347082</td>\n",
       "    </tr>\n",
       "    <tr>\n",
       "      <th>306</th>\n",
       "      <td>Single</td>\n",
       "      <td>0</td>\n",
       "      <td>22.0</td>\n",
       "      <td>Miss</td>\n",
       "      <td>110.8833</td>\n",
       "      <td>C</td>\n",
       "      <td>307</td>\n",
       "      <td>1</td>\n",
       "      <td>female</td>\n",
       "      <td>17421</td>\n",
       "    </tr>\n",
       "    <tr>\n",
       "      <th>454</th>\n",
       "      <td>Single</td>\n",
       "      <td>0</td>\n",
       "      <td>30.0</td>\n",
       "      <td>Mr</td>\n",
       "      <td>8.05</td>\n",
       "      <td>S</td>\n",
       "      <td>455</td>\n",
       "      <td>3</td>\n",
       "      <td>male</td>\n",
       "      <td>A/5 2817</td>\n",
       "    </tr>\n",
       "    <tr>\n",
       "      <th>199</th>\n",
       "      <td>Single</td>\n",
       "      <td>0</td>\n",
       "      <td>24.0</td>\n",
       "      <td>Miss</td>\n",
       "      <td>13.0</td>\n",
       "      <td>S</td>\n",
       "      <td>200</td>\n",
       "      <td>2</td>\n",
       "      <td>female</td>\n",
       "      <td>248747</td>\n",
       "    </tr>\n",
       "    <tr>\n",
       "      <th>397</th>\n",
       "      <td>Single</td>\n",
       "      <td>0</td>\n",
       "      <td>46.0</td>\n",
       "      <td>Mr</td>\n",
       "      <td>26.0</td>\n",
       "      <td>S</td>\n",
       "      <td>398</td>\n",
       "      <td>2</td>\n",
       "      <td>male</td>\n",
       "      <td>28403</td>\n",
       "    </tr>\n",
       "    <tr>\n",
       "      <th>...</th>\n",
       "      <td>...</td>\n",
       "      <td>...</td>\n",
       "      <td>...</td>\n",
       "      <td>...</td>\n",
       "      <td>...</td>\n",
       "      <td>...</td>\n",
       "      <td>...</td>\n",
       "      <td>...</td>\n",
       "      <td>...</td>\n",
       "      <td>...</td>\n",
       "    </tr>\n",
       "    <tr>\n",
       "      <th>51</th>\n",
       "      <td>Single</td>\n",
       "      <td>0</td>\n",
       "      <td>21.0</td>\n",
       "      <td>Mr</td>\n",
       "      <td>7.8</td>\n",
       "      <td>S</td>\n",
       "      <td>52</td>\n",
       "      <td>3</td>\n",
       "      <td>male</td>\n",
       "      <td>A/4. 39886</td>\n",
       "    </tr>\n",
       "    <tr>\n",
       "      <th>590</th>\n",
       "      <td>Single</td>\n",
       "      <td>0</td>\n",
       "      <td>35.0</td>\n",
       "      <td>Mr</td>\n",
       "      <td>7.125</td>\n",
       "      <td>S</td>\n",
       "      <td>591</td>\n",
       "      <td>3</td>\n",
       "      <td>male</td>\n",
       "      <td>STON/O 2. 3101273</td>\n",
       "    </tr>\n",
       "    <tr>\n",
       "      <th>41</th>\n",
       "      <td>Small</td>\n",
       "      <td>0</td>\n",
       "      <td>27.0</td>\n",
       "      <td>Mrs</td>\n",
       "      <td>21.0</td>\n",
       "      <td>S</td>\n",
       "      <td>42</td>\n",
       "      <td>2</td>\n",
       "      <td>female</td>\n",
       "      <td>11668</td>\n",
       "    </tr>\n",
       "    <tr>\n",
       "      <th>23</th>\n",
       "      <td>Single</td>\n",
       "      <td>1</td>\n",
       "      <td>28.0</td>\n",
       "      <td>Mr</td>\n",
       "      <td>35.5</td>\n",
       "      <td>S</td>\n",
       "      <td>24</td>\n",
       "      <td>1</td>\n",
       "      <td>male</td>\n",
       "      <td>113788</td>\n",
       "    </tr>\n",
       "    <tr>\n",
       "      <th>673</th>\n",
       "      <td>Single</td>\n",
       "      <td>0</td>\n",
       "      <td>31.0</td>\n",
       "      <td>Mr</td>\n",
       "      <td>13.0</td>\n",
       "      <td>S</td>\n",
       "      <td>674</td>\n",
       "      <td>2</td>\n",
       "      <td>male</td>\n",
       "      <td>244270</td>\n",
       "    </tr>\n",
       "  </tbody>\n",
       "</table>\n",
       "<p>712 rows × 10 columns</p>\n",
       "</div>"
      ],
      "text/plain": [
       "    family_binner__FamilyBin cabin_indicator__HasCabin title_age_imputer__Age  \\\n",
       "541                    Large                         0                    9.0   \n",
       "306                   Single                         0                   22.0   \n",
       "454                   Single                         0                   30.0   \n",
       "199                   Single                         0                   24.0   \n",
       "397                   Single                         0                   46.0   \n",
       "..                       ...                       ...                    ...   \n",
       "51                    Single                         0                   21.0   \n",
       "590                   Single                         0                   35.0   \n",
       "41                     Small                         0                   27.0   \n",
       "23                    Single                         1                   28.0   \n",
       "673                   Single                         0                   31.0   \n",
       "\n",
       "    title_age_imputer__Title fare_imputer__Fare embarked_imputer__Embarked  \\\n",
       "541                     Miss             31.275                          S   \n",
       "306                     Miss           110.8833                          C   \n",
       "454                       Mr               8.05                          S   \n",
       "199                     Miss               13.0                          S   \n",
       "397                       Mr               26.0                          S   \n",
       "..                       ...                ...                        ...   \n",
       "51                        Mr                7.8                          S   \n",
       "590                       Mr              7.125                          S   \n",
       "41                       Mrs               21.0                          S   \n",
       "23                        Mr               35.5                          S   \n",
       "673                       Mr               13.0                          S   \n",
       "\n",
       "    remainder__PassengerId remainder__Pclass remainder__Sex  remainder__Ticket  \n",
       "541                    542                 3         female             347082  \n",
       "306                    307                 1         female              17421  \n",
       "454                    455                 3           male           A/5 2817  \n",
       "199                    200                 2         female             248747  \n",
       "397                    398                 2           male              28403  \n",
       "..                     ...               ...            ...                ...  \n",
       "51                      52                 3           male         A/4. 39886  \n",
       "590                    591                 3           male  STON/O 2. 3101273  \n",
       "41                      42                 2         female              11668  \n",
       "23                      24                 1           male             113788  \n",
       "673                    674                 2           male             244270  \n",
       "\n",
       "[712 rows x 10 columns]"
      ]
     },
     "execution_count": 20,
     "metadata": {},
     "output_type": "execute_result"
    }
   ],
   "source": [
    "from sklearn.compose import ColumnTransformer\n",
    "\n",
    "import src.transformers as trf\n",
    "\n",
    "preproccesor = ColumnTransformer(\n",
    "    transformers=[\n",
    "        ('family_binner', trf.FamilyBinExtractor(), ['SibSp', 'Parch']),\n",
    "        ('cabin_indicator', trf.CabinExtractor(), ['Cabin']),\n",
    "        ('title_age_imputer', trf.TitleBasedAgeImputer(), ['Name', 'Age']),\n",
    "        ('fare_imputer', trf.FareImputer(), ['Fare']),\n",
    "        ('embarked_imputer', trf.EmbarkedImputer(), ['Embarked']),\n",
    "    ],\n",
    "    remainder='passthrough'\n",
    ")\n",
    "\n",
    "X_temp = preproccesor.fit_transform(X_train)\n",
    "feature_names = preproccesor.get_feature_names_out()\n",
    "X_temp = pd.DataFrame(X_temp, columns=feature_names, index=X_train.index)\n",
    "X_temp\n"
   ]
  },
  {
   "cell_type": "code",
   "execution_count": 21,
   "id": "7702e84b",
   "metadata": {},
   "outputs": [],
   "source": [
    "cat_columns = ['FamilyBin', 'Title', 'Embarked', 'Pclass', 'Sex']\n",
    "num_columns = ['Age', 'Fare']\n",
    "has_cabin_col = ['HasCabin']"
   ]
  },
  {
   "cell_type": "markdown",
   "id": "c98a8f5c",
   "metadata": {},
   "source": [
    "### Create Full Pipeline"
   ]
  },
  {
   "cell_type": "code",
   "execution_count": null,
   "id": "3c7bb628",
   "metadata": {},
   "outputs": [],
   "source": [
    "import sklearn\n",
    "from sklearn.compose import ColumnTransformer\n",
    "from sklearn.pipeline import Pipeline\n",
    "from sklearn.preprocessing import OneHotEncoder, StandardScaler\n",
    "from sklearn.svm import LinearSVC\n",
    "\n",
    "sklearn.set_config(transform_output=\"pandas\") \n",
    "\n",
    "feature_engineering_processor = ColumnTransformer(\n",
    "    transformers=[\n",
    "        ('family_bin_extractor', trf.FamilyBinExtractor(), ['SibSp', 'Parch']),\n",
    "        ('cabin_extractor', trf.CabinExtractor(), ['Cabin']),\n",
    "        ('title_age_imputer', trf.TitleBasedAgeImputer(), ['Name', 'Age']),\n",
    "        ('fare_imputer', trf.FareImputer(), ['Fare']),\n",
    "        ('embarked_imputer', trf.EmbarkedImputer(), ['Embarked']),\n",
    "    ],\n",
    "    remainder='passthrough',\n",
    "    verbose_feature_names_out=False\n",
    ")\n",
    "preprocessor = ColumnTransformer(\n",
    "    transformers=[\n",
    "        ('numeric', StandardScaler(), num_columns),\n",
    "        ('categorical', OneHotEncoder(handle_unknown='ignore', sparse_output=False), cat_columns),\n",
    "        ('has_cabin', 'passthrough', has_cabin_col)\n",
    "    ],\n",
    "    verbose_feature_names_out=False\n",
    ")\n",
    "full_pipeline = Pipeline(\n",
    "    steps=[\n",
    "        ('feature_engineering', feature_engineering_processor),\n",
    "        ('preprocessing', preprocessor),\n",
    "        ('classifier', LinearSVC(random_state=23))\n",
    "    ]\n",
    ")"
   ]
  },
  {
   "cell_type": "markdown",
   "id": "de002386",
   "metadata": {},
   "source": [
    "### Cross-Validation & Hyperparameter Settings"
   ]
  },
  {
   "cell_type": "markdown",
   "id": "2e1ac8ab",
   "metadata": {},
   "source": [
    "Defining the parameter settings:"
   ]
  },
  {
   "cell_type": "code",
   "execution_count": 43,
   "id": "412d8795",
   "metadata": {},
   "outputs": [],
   "source": [
    "from sklearn.model_selection import GridSearchCV, StratifiedKFold\n",
    "\n",
    "skf_splitter = StratifiedKFold(n_splits=10, shuffle=True, random_state=23)\n",
    "\n",
    "param_grid = [\n",
    "    {\n",
    "        'classifier__penalty': ['l2'],\n",
    "        'classifier__loss': ['squared_hinge'],\n",
    "        'classifier__C': [0.1, 1, 10, 100],\n",
    "        'classifier__max_iter': [10000]\n",
    "    },\n",
    "    {\n",
    "        'classifier__penalty': ['l2'],\n",
    "        'classifier__loss': ['hinge'],\n",
    "        'classifier__dual': [True],\n",
    "        'classifier__C': [0.1, 1, 10, 100],\n",
    "        'classifier__max_iter': [10000]\n",
    "    },\n",
    "    {\n",
    "        'classifier__penalty': ['l1'],\n",
    "        'classifier__loss': ['squared_hinge'],\n",
    "        'classifier__dual': [False],\n",
    "        'classifier__C': [0.1, 1, 10, 100],\n",
    "        'classifier__max_iter': [10000]\n",
    "    }\n",
    "]"
   ]
  },
  {
   "cell_type": "markdown",
   "id": "a8133c79",
   "metadata": {},
   "source": [
    "Defining grid search:"
   ]
  },
  {
   "cell_type": "code",
   "execution_count": 44,
   "id": "69dc71bd",
   "metadata": {},
   "outputs": [],
   "source": [
    "grid_search = GridSearchCV(\n",
    "    estimator=full_pipeline,\n",
    "    param_grid=param_grid,\n",
    "    cv=skf_splitter,\n",
    "    scoring='accuracy',\n",
    "    verbose=1,\n",
    "    n_jobs=-1\n",
    ")"
   ]
  },
  {
   "cell_type": "code",
   "execution_count": 45,
   "id": "f758e034",
   "metadata": {},
   "outputs": [
    {
     "name": "stdout",
     "output_type": "stream",
     "text": [
      "Starting Grid Search...\n",
      "Fitting 10 folds for each of 12 candidates, totalling 120 fits\n"
     ]
    },
    {
     "name": "stderr",
     "output_type": "stream",
     "text": [
      "/Users/bening/Courses/Pacmann.io/Portfolios/titanic-challenge/.venv/lib/python3.13/site-packages/sklearn/svm/_base.py:1250: ConvergenceWarning: Liblinear failed to converge, increase the number of iterations.\n",
      "  warnings.warn(\n"
     ]
    },
    {
     "name": "stdout",
     "output_type": "stream",
     "text": [
      "Grid Search Complete.\n",
      "\n",
      "--- Best Results ---\n",
      "Best cross-validated score (Accuracy): 0.8314\n",
      "Best Hyperparameters:\n",
      "{'classifier__C': 1, 'classifier__dual': False, 'classifier__loss': 'squared_hinge', 'classifier__max_iter': 10000, 'classifier__penalty': 'l1'}\n"
     ]
    },
    {
     "name": "stderr",
     "output_type": "stream",
     "text": [
      "/Users/bening/Courses/Pacmann.io/Portfolios/titanic-challenge/.venv/lib/python3.13/site-packages/sklearn/svm/_base.py:1250: ConvergenceWarning: Liblinear failed to converge, increase the number of iterations.\n",
      "  warnings.warn(\n"
     ]
    }
   ],
   "source": [
    "print(\"Starting Grid Search...\")\n",
    "grid_search.fit(X_train, y_train)\n",
    "print(\"Grid Search Complete.\")\n",
    "\n",
    "print(\"\\n--- Best Results ---\")\n",
    "print(f\"Best cross-validated score (Accuracy): {grid_search.best_score_:.4f}\")\n",
    "print(\"Best Hyperparameters:\")\n",
    "print(grid_search.best_params_)"
   ]
  },
  {
   "cell_type": "markdown",
   "id": "821ec6f0",
   "metadata": {},
   "source": [
    "### Test against `X_test`"
   ]
  },
  {
   "cell_type": "code",
   "execution_count": 47,
   "id": "6f12b065",
   "metadata": {},
   "outputs": [
    {
     "name": "stdout",
     "output_type": "stream",
     "text": [
      "Final Accuracy on the test set: 0.8324\n",
      "\n",
      "--- Classification Report on Test Set ---\n",
      "              precision    recall  f1-score   support\n",
      "\n",
      "           0       0.83      0.92      0.87       110\n",
      "           1       0.84      0.70      0.76        69\n",
      "\n",
      "    accuracy                           0.83       179\n",
      "   macro avg       0.83      0.81      0.82       179\n",
      "weighted avg       0.83      0.83      0.83       179\n",
      "\n"
     ]
    }
   ],
   "source": [
    "from sklearn.metrics import accuracy_score, classification_report\n",
    "\n",
    "final_predictions_on_test = grid_search.predict(X_test)\n",
    "\n",
    "final_accuracy = accuracy_score(y_test, final_predictions_on_test)\n",
    "print(f\"Final Accuracy on the test set: {final_accuracy:.4f}\")\n",
    "\n",
    "print(\"\\n--- Classification Report on Test Set ---\")\n",
    "print(classification_report(y_test, final_predictions_on_test))"
   ]
  },
  {
   "cell_type": "markdown",
   "id": "60534a70",
   "metadata": {},
   "source": [
    "### Test against `df_test`"
   ]
  },
  {
   "cell_type": "code",
   "execution_count": 48,
   "id": "3a99169b",
   "metadata": {},
   "outputs": [
    {
     "name": "stdout",
     "output_type": "stream",
     "text": [
      "\n",
      "Submission file 'input/submission_1759241863.508.csv' created successfully!\n"
     ]
    }
   ],
   "source": [
    "import time\n",
    "\n",
    "submission_predictions = grid_search.predict(df_test)\n",
    "\n",
    "submission_df = pd.DataFrame({\n",
    "    'PassengerId': df_test['PassengerId'],\n",
    "    'Survived': submission_predictions\n",
    "})\n",
    "\n",
    "filename = f'input/submission_{time.time()}.csv'\n",
    "submission_df.to_csv(filename, index=False)\n",
    "\n",
    "print(f\"\\nSubmission file '{filename}' created successfully!\")\n"
   ]
  }
 ],
 "metadata": {
  "kernelspec": {
   "display_name": "Python 3 (ipykernel)",
   "language": "python",
   "name": "python3"
  },
  "language_info": {
   "codemirror_mode": {
    "name": "ipython",
    "version": 3
   },
   "file_extension": ".py",
   "mimetype": "text/x-python",
   "name": "python",
   "nbconvert_exporter": "python",
   "pygments_lexer": "ipython3",
   "version": "3.13.4"
  }
 },
 "nbformat": 4,
 "nbformat_minor": 5
}
